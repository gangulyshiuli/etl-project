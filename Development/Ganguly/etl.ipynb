{
 "cells": [
  {
   "cell_type": "code",
   "execution_count": 1,
   "metadata": {},
   "outputs": [],
   "source": [
    "# Dependencies and Setup\n",
    "import pandas as pd\n",
    "\n",
    "# File to Load \n",
    "coursera_data_to_load = \"coursera-course-data/coursera-course-data.csv\"\n",
    "coursera_detail_to_load = \"coursera-course-data/coursera-course-detail-data.csv\"\n",
    "\n",
    "# Read Data File and store into Pandas DataFrames\n",
    "coursera_data = pd.read_csv(coursera_data_to_load)\n",
    "coursera_detail = pd.read_csv(coursera_detail_to_load)"
   ]
  },
  {
   "cell_type": "code",
   "execution_count": 7,
   "metadata": {},
   "outputs": [
    {
     "data": {
      "text/html": [
       "<div>\n",
       "<style scoped>\n",
       "    .dataframe tbody tr th:only-of-type {\n",
       "        vertical-align: middle;\n",
       "    }\n",
       "\n",
       "    .dataframe tbody tr th {\n",
       "        vertical-align: top;\n",
       "    }\n",
       "\n",
       "    .dataframe thead th {\n",
       "        text-align: right;\n",
       "    }\n",
       "</style>\n",
       "<table border=\"1\" class=\"dataframe\">\n",
       "  <thead>\n",
       "    <tr style=\"text-align: right;\">\n",
       "      <th></th>\n",
       "      <th>Unnamed: 0</th>\n",
       "      <th>Name</th>\n",
       "      <th>Link</th>\n",
       "    </tr>\n",
       "  </thead>\n",
       "  <tbody>\n",
       "    <tr>\n",
       "      <th>0</th>\n",
       "      <td>0</td>\n",
       "      <td>\"Espace mondial\" الرؤية الفرنسية للدراسات العا...</td>\n",
       "      <td>https://coursera.org/learn/espace-mondial-ar</td>\n",
       "    </tr>\n",
       "    <tr>\n",
       "      <th>1</th>\n",
       "      <td>1</td>\n",
       "      <td>\"Making\" Progress Teach-Out (Emory University)</td>\n",
       "      <td>https://coursera.org/learn/makingprogress</td>\n",
       "    </tr>\n",
       "    <tr>\n",
       "      <th>2</th>\n",
       "      <td>2</td>\n",
       "      <td>(Business Writing) الكتابة في مجال الأعمال (Un...</td>\n",
       "      <td>https://coursera.org/learn/writing-for-busines...</td>\n",
       "    </tr>\n",
       "    <tr>\n",
       "      <th>3</th>\n",
       "      <td>3</td>\n",
       "      <td>(Giving Helpful Feedback) إعطاء الملاحظات المف...</td>\n",
       "      <td>https://coursera.org/learn/feedback-ar</td>\n",
       "    </tr>\n",
       "    <tr>\n",
       "      <th>4</th>\n",
       "      <td>4</td>\n",
       "      <td>(Successful Presentation) العرض التقديمي الناج...</td>\n",
       "      <td>https://coursera.org/learn/presentation-skills-ar</td>\n",
       "    </tr>\n",
       "  </tbody>\n",
       "</table>\n",
       "</div>"
      ],
      "text/plain": [
       "   Unnamed: 0                                               Name  \\\n",
       "0           0  \"Espace mondial\" الرؤية الفرنسية للدراسات العا...   \n",
       "1           1     \"Making\" Progress Teach-Out (Emory University)   \n",
       "2           2  (Business Writing) الكتابة في مجال الأعمال (Un...   \n",
       "3           3  (Giving Helpful Feedback) إعطاء الملاحظات المف...   \n",
       "4           4  (Successful Presentation) العرض التقديمي الناج...   \n",
       "\n",
       "                                                Link  \n",
       "0       https://coursera.org/learn/espace-mondial-ar  \n",
       "1          https://coursera.org/learn/makingprogress  \n",
       "2  https://coursera.org/learn/writing-for-busines...  \n",
       "3             https://coursera.org/learn/feedback-ar  \n",
       "4  https://coursera.org/learn/presentation-skills-ar  "
      ]
     },
     "execution_count": 7,
     "metadata": {},
     "output_type": "execute_result"
    }
   ],
   "source": [
    "coursera_data.head()"
   ]
  },
  {
   "cell_type": "code",
   "execution_count": 8,
   "metadata": {},
   "outputs": [
    {
     "data": {
      "text/html": [
       "<div>\n",
       "<style scoped>\n",
       "    .dataframe tbody tr th:only-of-type {\n",
       "        vertical-align: middle;\n",
       "    }\n",
       "\n",
       "    .dataframe tbody tr th {\n",
       "        vertical-align: top;\n",
       "    }\n",
       "\n",
       "    .dataframe thead th {\n",
       "        text-align: right;\n",
       "    }\n",
       "</style>\n",
       "<table border=\"1\" class=\"dataframe\">\n",
       "  <thead>\n",
       "    <tr style=\"text-align: right;\">\n",
       "      <th></th>\n",
       "      <th>Unnamed: 0</th>\n",
       "      <th>Name</th>\n",
       "      <th>Url</th>\n",
       "      <th>Rating</th>\n",
       "      <th>Difficulty</th>\n",
       "      <th>Tags</th>\n",
       "    </tr>\n",
       "  </thead>\n",
       "  <tbody>\n",
       "    <tr>\n",
       "      <th>0</th>\n",
       "      <td>0</td>\n",
       "      <td>\"Making\" Progress Teach-Out</td>\n",
       "      <td>https://coursera.org/learn/makingprogress</td>\n",
       "      <td>None</td>\n",
       "      <td>Beginner Level</td>\n",
       "      <td>['Social Sciences', 'Governance and Society']</td>\n",
       "    </tr>\n",
       "    <tr>\n",
       "      <th>1</th>\n",
       "      <td>1</td>\n",
       "      <td>(Business Writing) الكتابة في مجال الأعمال</td>\n",
       "      <td>https://coursera.org/learn/writing-for-busines...</td>\n",
       "      <td>None</td>\n",
       "      <td>Beginner Level</td>\n",
       "      <td>['Business', 'Business Essentials']</td>\n",
       "    </tr>\n",
       "    <tr>\n",
       "      <th>2</th>\n",
       "      <td>2</td>\n",
       "      <td>(Giving Helpful Feedback) إعطاء الملاحظات المفيدة</td>\n",
       "      <td>https://coursera.org/learn/feedback-ar</td>\n",
       "      <td>4.8</td>\n",
       "      <td>None</td>\n",
       "      <td>['Business', 'Business Essentials']</td>\n",
       "    </tr>\n",
       "    <tr>\n",
       "      <th>3</th>\n",
       "      <td>3</td>\n",
       "      <td>(Successful Presentation) العرض التقديمي الناجح</td>\n",
       "      <td>https://coursera.org/learn/presentation-skills-ar</td>\n",
       "      <td>4.9</td>\n",
       "      <td>Beginner Level</td>\n",
       "      <td>['Business', 'Business Essentials']</td>\n",
       "    </tr>\n",
       "    <tr>\n",
       "      <th>4</th>\n",
       "      <td>4</td>\n",
       "      <td>.Net平台下的软件开发技术毕业项目</td>\n",
       "      <td>https://coursera.org/learn/net-ruanjian-kaifa-...</td>\n",
       "      <td>None</td>\n",
       "      <td>None</td>\n",
       "      <td>['Computer Science', 'Software Development']</td>\n",
       "    </tr>\n",
       "  </tbody>\n",
       "</table>\n",
       "</div>"
      ],
      "text/plain": [
       "   Unnamed: 0                                               Name  \\\n",
       "0           0                        \"Making\" Progress Teach-Out   \n",
       "1           1         (Business Writing) الكتابة في مجال الأعمال   \n",
       "2           2  (Giving Helpful Feedback) إعطاء الملاحظات المفيدة   \n",
       "3           3    (Successful Presentation) العرض التقديمي الناجح   \n",
       "4           4                                 .Net平台下的软件开发技术毕业项目   \n",
       "\n",
       "                                                 Url Rating      Difficulty  \\\n",
       "0          https://coursera.org/learn/makingprogress   None  Beginner Level   \n",
       "1  https://coursera.org/learn/writing-for-busines...   None  Beginner Level   \n",
       "2             https://coursera.org/learn/feedback-ar    4.8            None   \n",
       "3  https://coursera.org/learn/presentation-skills-ar    4.9  Beginner Level   \n",
       "4  https://coursera.org/learn/net-ruanjian-kaifa-...   None            None   \n",
       "\n",
       "                                            Tags  \n",
       "0  ['Social Sciences', 'Governance and Society']  \n",
       "1            ['Business', 'Business Essentials']  \n",
       "2            ['Business', 'Business Essentials']  \n",
       "3            ['Business', 'Business Essentials']  \n",
       "4   ['Computer Science', 'Software Development']  "
      ]
     },
     "execution_count": 8,
     "metadata": {},
     "output_type": "execute_result"
    }
   ],
   "source": [
    "coursera_detail.head()"
   ]
  },
  {
   "cell_type": "code",
   "execution_count": 9,
   "metadata": {},
   "outputs": [
    {
     "data": {
      "text/html": [
       "<div>\n",
       "<style scoped>\n",
       "    .dataframe tbody tr th:only-of-type {\n",
       "        vertical-align: middle;\n",
       "    }\n",
       "\n",
       "    .dataframe tbody tr th {\n",
       "        vertical-align: top;\n",
       "    }\n",
       "\n",
       "    .dataframe thead th {\n",
       "        text-align: right;\n",
       "    }\n",
       "</style>\n",
       "<table border=\"1\" class=\"dataframe\">\n",
       "  <thead>\n",
       "    <tr style=\"text-align: right;\">\n",
       "      <th></th>\n",
       "      <th>Unnamed: 0</th>\n",
       "      <th>Name</th>\n",
       "      <th>Link</th>\n",
       "    </tr>\n",
       "  </thead>\n",
       "  <tbody>\n",
       "    <tr>\n",
       "      <th>0</th>\n",
       "      <td>0</td>\n",
       "      <td>\"Espace mondial\" الرؤية الفرنسية للدراسات العا...</td>\n",
       "      <td>https://coursera.org/learn/espace-mondial-ar</td>\n",
       "    </tr>\n",
       "    <tr>\n",
       "      <th>1</th>\n",
       "      <td>1</td>\n",
       "      <td>\"Making\" Progress Teach-Out (Emory University)</td>\n",
       "      <td>https://coursera.org/learn/makingprogress</td>\n",
       "    </tr>\n",
       "    <tr>\n",
       "      <th>2</th>\n",
       "      <td>2</td>\n",
       "      <td>(Business Writing) الكتابة في مجال الأعمال (Un...</td>\n",
       "      <td>https://coursera.org/learn/writing-for-busines...</td>\n",
       "    </tr>\n",
       "    <tr>\n",
       "      <th>3</th>\n",
       "      <td>3</td>\n",
       "      <td>(Giving Helpful Feedback) إعطاء الملاحظات المف...</td>\n",
       "      <td>https://coursera.org/learn/feedback-ar</td>\n",
       "    </tr>\n",
       "    <tr>\n",
       "      <th>4</th>\n",
       "      <td>4</td>\n",
       "      <td>(Successful Presentation) العرض التقديمي الناج...</td>\n",
       "      <td>https://coursera.org/learn/presentation-skills-ar</td>\n",
       "    </tr>\n",
       "    <tr>\n",
       "      <th>...</th>\n",
       "      <td>...</td>\n",
       "      <td>...</td>\n",
       "      <td>...</td>\n",
       "    </tr>\n",
       "    <tr>\n",
       "      <th>3845</th>\n",
       "      <td>3845</td>\n",
       "      <td>剪辑：像编剧一样剪辑 (Fudan University)</td>\n",
       "      <td>https://coursera.org/learn/jian-ji</td>\n",
       "    </tr>\n",
       "    <tr>\n",
       "      <th>3846</th>\n",
       "      <td>3846</td>\n",
       "      <td>医学统计学与SPSS软件（基础篇） (Peking University)</td>\n",
       "      <td>https://coursera.org/learn/spss-ruanjian</td>\n",
       "    </tr>\n",
       "    <tr>\n",
       "      <th>3847</th>\n",
       "      <td>3847</td>\n",
       "      <td>口腔种植学 （Implant Dentistry） (The University of H...</td>\n",
       "      <td>https://coursera.org/learn/implant-dentistry-c...</td>\n",
       "    </tr>\n",
       "    <tr>\n",
       "      <th>3848</th>\n",
       "      <td>3848</td>\n",
       "      <td>史記 (Shi Ji) (National Taiwan University)</td>\n",
       "      <td>https://coursera.org/learn/shiji</td>\n",
       "    </tr>\n",
       "    <tr>\n",
       "      <th>3849</th>\n",
       "      <td>3849</td>\n",
       "      <td>品读道家的智慧 (Xi'an Jiaotong University)</td>\n",
       "      <td>https://coursera.org/learn/daojiao</td>\n",
       "    </tr>\n",
       "  </tbody>\n",
       "</table>\n",
       "<p>3850 rows × 3 columns</p>\n",
       "</div>"
      ],
      "text/plain": [
       "      Unnamed: 0                                               Name  \\\n",
       "0              0  \"Espace mondial\" الرؤية الفرنسية للدراسات العا...   \n",
       "1              1     \"Making\" Progress Teach-Out (Emory University)   \n",
       "2              2  (Business Writing) الكتابة في مجال الأعمال (Un...   \n",
       "3              3  (Giving Helpful Feedback) إعطاء الملاحظات المف...   \n",
       "4              4  (Successful Presentation) العرض التقديمي الناج...   \n",
       "...          ...                                                ...   \n",
       "3845        3845                      剪辑：像编剧一样剪辑 (Fudan University)   \n",
       "3846        3846              医学统计学与SPSS软件（基础篇） (Peking University)   \n",
       "3847        3847  口腔种植学 （Implant Dentistry） (The University of H...   \n",
       "3848        3848           史記 (Shi Ji) (National Taiwan University)   \n",
       "3849        3849                品读道家的智慧 (Xi'an Jiaotong University)   \n",
       "\n",
       "                                                   Link  \n",
       "0          https://coursera.org/learn/espace-mondial-ar  \n",
       "1             https://coursera.org/learn/makingprogress  \n",
       "2     https://coursera.org/learn/writing-for-busines...  \n",
       "3                https://coursera.org/learn/feedback-ar  \n",
       "4     https://coursera.org/learn/presentation-skills-ar  \n",
       "...                                                 ...  \n",
       "3845                 https://coursera.org/learn/jian-ji  \n",
       "3846           https://coursera.org/learn/spss-ruanjian  \n",
       "3847  https://coursera.org/learn/implant-dentistry-c...  \n",
       "3848                   https://coursera.org/learn/shiji  \n",
       "3849                 https://coursera.org/learn/daojiao  \n",
       "\n",
       "[3850 rows x 3 columns]"
      ]
     },
     "execution_count": 9,
     "metadata": {},
     "output_type": "execute_result"
    }
   ],
   "source": [
    "coursera_data"
   ]
  },
  {
   "cell_type": "code",
   "execution_count": 11,
   "metadata": {},
   "outputs": [
    {
     "data": {
      "text/html": [
       "<div>\n",
       "<style scoped>\n",
       "    .dataframe tbody tr th:only-of-type {\n",
       "        vertical-align: middle;\n",
       "    }\n",
       "\n",
       "    .dataframe tbody tr th {\n",
       "        vertical-align: top;\n",
       "    }\n",
       "\n",
       "    .dataframe thead th {\n",
       "        text-align: right;\n",
       "    }\n",
       "</style>\n",
       "<table border=\"1\" class=\"dataframe\">\n",
       "  <thead>\n",
       "    <tr style=\"text-align: right;\">\n",
       "      <th></th>\n",
       "      <th>Unnamed: 0</th>\n",
       "      <th>Name</th>\n",
       "      <th>Url</th>\n",
       "      <th>Rating</th>\n",
       "      <th>Difficulty</th>\n",
       "      <th>Tags</th>\n",
       "    </tr>\n",
       "  </thead>\n",
       "  <tbody>\n",
       "    <tr>\n",
       "      <th>0</th>\n",
       "      <td>0</td>\n",
       "      <td>\"Making\" Progress Teach-Out</td>\n",
       "      <td>https://coursera.org/learn/makingprogress</td>\n",
       "      <td>None</td>\n",
       "      <td>Beginner Level</td>\n",
       "      <td>['Social Sciences', 'Governance and Society']</td>\n",
       "    </tr>\n",
       "    <tr>\n",
       "      <th>1</th>\n",
       "      <td>1</td>\n",
       "      <td>(Business Writing) الكتابة في مجال الأعمال</td>\n",
       "      <td>https://coursera.org/learn/writing-for-busines...</td>\n",
       "      <td>None</td>\n",
       "      <td>Beginner Level</td>\n",
       "      <td>['Business', 'Business Essentials']</td>\n",
       "    </tr>\n",
       "    <tr>\n",
       "      <th>2</th>\n",
       "      <td>2</td>\n",
       "      <td>(Giving Helpful Feedback) إعطاء الملاحظات المفيدة</td>\n",
       "      <td>https://coursera.org/learn/feedback-ar</td>\n",
       "      <td>4.8</td>\n",
       "      <td>None</td>\n",
       "      <td>['Business', 'Business Essentials']</td>\n",
       "    </tr>\n",
       "    <tr>\n",
       "      <th>3</th>\n",
       "      <td>3</td>\n",
       "      <td>(Successful Presentation) العرض التقديمي الناجح</td>\n",
       "      <td>https://coursera.org/learn/presentation-skills-ar</td>\n",
       "      <td>4.9</td>\n",
       "      <td>Beginner Level</td>\n",
       "      <td>['Business', 'Business Essentials']</td>\n",
       "    </tr>\n",
       "    <tr>\n",
       "      <th>4</th>\n",
       "      <td>4</td>\n",
       "      <td>.Net平台下的软件开发技术毕业项目</td>\n",
       "      <td>https://coursera.org/learn/net-ruanjian-kaifa-...</td>\n",
       "      <td>None</td>\n",
       "      <td>None</td>\n",
       "      <td>['Computer Science', 'Software Development']</td>\n",
       "    </tr>\n",
       "    <tr>\n",
       "      <th>...</th>\n",
       "      <td>...</td>\n",
       "      <td>...</td>\n",
       "      <td>...</td>\n",
       "      <td>...</td>\n",
       "      <td>...</td>\n",
       "      <td>...</td>\n",
       "    </tr>\n",
       "    <tr>\n",
       "      <th>3845</th>\n",
       "      <td>3845</td>\n",
       "      <td>None</td>\n",
       "      <td>https://coursera.org/learn/building-resilient-...</td>\n",
       "      <td>None</td>\n",
       "      <td>None</td>\n",
       "      <td>None</td>\n",
       "    </tr>\n",
       "    <tr>\n",
       "      <th>3846</th>\n",
       "      <td>3846</td>\n",
       "      <td>Drugs and the Brain</td>\n",
       "      <td>https://coursera.org/learn/drugs-and-brain</td>\n",
       "      <td>None</td>\n",
       "      <td>None</td>\n",
       "      <td>None</td>\n",
       "    </tr>\n",
       "    <tr>\n",
       "      <th>3847</th>\n",
       "      <td>3847</td>\n",
       "      <td>None</td>\n",
       "      <td>https://coursera.org/learn/serverless-machine-...</td>\n",
       "      <td>None</td>\n",
       "      <td>None</td>\n",
       "      <td>None</td>\n",
       "    </tr>\n",
       "    <tr>\n",
       "      <th>3848</th>\n",
       "      <td>3848</td>\n",
       "      <td>None</td>\n",
       "      <td>https://coursera.org/learn/serverless-data-ana...</td>\n",
       "      <td>None</td>\n",
       "      <td>None</td>\n",
       "      <td>None</td>\n",
       "    </tr>\n",
       "    <tr>\n",
       "      <th>3849</th>\n",
       "      <td>3849</td>\n",
       "      <td>None</td>\n",
       "      <td>https://coursera.org/learn/augmented-reality-v...</td>\n",
       "      <td>None</td>\n",
       "      <td>None</td>\n",
       "      <td>None</td>\n",
       "    </tr>\n",
       "  </tbody>\n",
       "</table>\n",
       "<p>3850 rows × 6 columns</p>\n",
       "</div>"
      ],
      "text/plain": [
       "      Unnamed: 0                                               Name  \\\n",
       "0              0                        \"Making\" Progress Teach-Out   \n",
       "1              1         (Business Writing) الكتابة في مجال الأعمال   \n",
       "2              2  (Giving Helpful Feedback) إعطاء الملاحظات المفيدة   \n",
       "3              3    (Successful Presentation) العرض التقديمي الناجح   \n",
       "4              4                                 .Net平台下的软件开发技术毕业项目   \n",
       "...          ...                                                ...   \n",
       "3845        3845                                               None   \n",
       "3846        3846                                Drugs and the Brain   \n",
       "3847        3847                                               None   \n",
       "3848        3848                                               None   \n",
       "3849        3849                                               None   \n",
       "\n",
       "                                                    Url Rating  \\\n",
       "0             https://coursera.org/learn/makingprogress   None   \n",
       "1     https://coursera.org/learn/writing-for-busines...   None   \n",
       "2                https://coursera.org/learn/feedback-ar    4.8   \n",
       "3     https://coursera.org/learn/presentation-skills-ar    4.9   \n",
       "4     https://coursera.org/learn/net-ruanjian-kaifa-...   None   \n",
       "...                                                 ...    ...   \n",
       "3845  https://coursera.org/learn/building-resilient-...   None   \n",
       "3846         https://coursera.org/learn/drugs-and-brain   None   \n",
       "3847  https://coursera.org/learn/serverless-machine-...   None   \n",
       "3848  https://coursera.org/learn/serverless-data-ana...   None   \n",
       "3849  https://coursera.org/learn/augmented-reality-v...   None   \n",
       "\n",
       "          Difficulty                                           Tags  \n",
       "0     Beginner Level  ['Social Sciences', 'Governance and Society']  \n",
       "1     Beginner Level            ['Business', 'Business Essentials']  \n",
       "2               None            ['Business', 'Business Essentials']  \n",
       "3     Beginner Level            ['Business', 'Business Essentials']  \n",
       "4               None   ['Computer Science', 'Software Development']  \n",
       "...              ...                                            ...  \n",
       "3845            None                                           None  \n",
       "3846            None                                           None  \n",
       "3847            None                                           None  \n",
       "3848            None                                           None  \n",
       "3849            None                                           None  \n",
       "\n",
       "[3850 rows x 6 columns]"
      ]
     },
     "execution_count": 11,
     "metadata": {},
     "output_type": "execute_result"
    }
   ],
   "source": [
    "coursera_detail"
   ]
  },
  {
   "cell_type": "code",
   "execution_count": 14,
   "metadata": {},
   "outputs": [
    {
     "data": {
      "text/plain": [
       "array(['None', '4.8', '4.9', '4.7', '4.3', '5', '4.5', '4.6', '4.4',\n",
       "       '3.8', '4', '4.2', '3.6', '3.7', '4.1', '3.9', '3.5', '3.2', '3.3',\n",
       "       '3.4', '3'], dtype=object)"
      ]
     },
     "execution_count": 14,
     "metadata": {},
     "output_type": "execute_result"
    }
   ],
   "source": [
    "coursera_detail.Rating.unique()"
   ]
  },
  {
   "cell_type": "code",
   "execution_count": 16,
   "metadata": {},
   "outputs": [
    {
     "name": "stdout",
     "output_type": "stream",
     "text": [
      "How many different Kinds of Rating 21\n"
     ]
    }
   ],
   "source": [
    "kind_of_rating = len(coursera_detail.Rating.unique())\n",
    "print(f\"How many different Kinds of Rating {kind_of_rating}\")"
   ]
  },
  {
   "cell_type": "code",
   "execution_count": 17,
   "metadata": {},
   "outputs": [
    {
     "data": {
      "text/plain": [
       "array(['Beginner Level', 'None', 'Advanced Level', 'Intermediate Level'],\n",
       "      dtype=object)"
      ]
     },
     "execution_count": 17,
     "metadata": {},
     "output_type": "execute_result"
    }
   ],
   "source": [
    "coursera_detail.Difficulty.unique()"
   ]
  },
  {
   "cell_type": "code",
   "execution_count": 18,
   "metadata": {},
   "outputs": [
    {
     "name": "stdout",
     "output_type": "stream",
     "text": [
      "How many different Levels of Difficulty 4\n"
     ]
    }
   ],
   "source": [
    "levels_of_Difficulty = len(coursera_detail.Difficulty.unique())\n",
    "print(f\"How many different Levels of Difficulty {levels_of_Difficulty}\")"
   ]
  },
  {
   "cell_type": "code",
   "execution_count": 19,
   "metadata": {},
   "outputs": [
    {
     "data": {
      "text/plain": [
       "0       ['Social Sciences', 'Governance and Society']\n",
       "1                 ['Business', 'Business Essentials']\n",
       "2                 ['Business', 'Business Essentials']\n",
       "3                 ['Business', 'Business Essentials']\n",
       "4        ['Computer Science', 'Software Development']\n",
       "                            ...                      \n",
       "3845                                             None\n",
       "3846                                             None\n",
       "3847                                             None\n",
       "3848                                             None\n",
       "3849                                             None\n",
       "Name: Tags, Length: 3850, dtype: object"
      ]
     },
     "execution_count": 19,
     "metadata": {},
     "output_type": "execute_result"
    }
   ],
   "source": [
    "coursera_detail.Tags"
   ]
  },
  {
   "cell_type": "code",
   "execution_count": 20,
   "metadata": {},
   "outputs": [
    {
     "data": {
      "text/plain": [
       "array([\"['Social Sciences', 'Governance and Society']\",\n",
       "       \"['Business', 'Business Essentials']\",\n",
       "       \"['Computer Science', 'Software Development']\",\n",
       "       \"['Math and Logic', 'Math and Logic']\",\n",
       "       \"['Arts and Humanities', 'Music and Art']\",\n",
       "       \"['Physical Science and Engineering', 'Mechanical Engineering']\",\n",
       "       \"['Data Science', 'Data Analysis']\",\n",
       "       \"['Computer Science', 'Mobile and Web Development']\",\n",
       "       \"['Health', 'Patient Care']\", \"['Arts and Humanities', 'History']\",\n",
       "       \"['Social Sciences', 'Economics']\",\n",
       "       \"['Computer Science', 'Design and Product']\",\n",
       "       \"['Health', 'Healthcare Management']\",\n",
       "       \"['Physical Science and Engineering', 'Environmental Science and Sustainability']\",\n",
       "       \"['Computer Science', 'Algorithms']\",\n",
       "       \"['Business', 'Business Strategy']\", \"['Health', 'Public Health']\",\n",
       "       \"['Business', 'Finance']\",\n",
       "       \"['Physical Science and Engineering', 'Physics and Astronomy']\",\n",
       "       \"['Data Science', 'Machine Learning']\",\n",
       "       \"['Business', 'Leadership and Management']\",\n",
       "       \"['Health', 'Basic Science']\", \"['Business', 'Entrepreneurship']\",\n",
       "       \"['Business', 'Marketing']\", \"['Social Sciences', 'Education']\",\n",
       "       \"['Health', 'Research']\",\n",
       "       \"['Information Technology', 'Data Management']\",\n",
       "       \"['Personal Development', 'Personal Development']\",\n",
       "       \"['Language Learning', 'Learning English']\",\n",
       "       \"['Information Technology', 'Cloud Computing']\",\n",
       "       \"['Physical Science and Engineering', 'Chemistry']\",\n",
       "       \"['Language Learning', 'Other Languages']\",\n",
       "       \"['Data Science', 'Probability and Statistics']\",\n",
       "       \"['Computer Science', 'Computer Security and Networks']\",\n",
       "       \"['Social Sciences', 'Law']\", \"['Health', 'Psychology']\",\n",
       "       \"['Health', 'Nutrition']\",\n",
       "       \"['Physical Science and Engineering', 'Electrical Engineering']\",\n",
       "       \"['Physical Science and Engineering', 'Research Methods']\",\n",
       "       \"['Health', 'Health Informatics']\",\n",
       "       \"['Information Technology', 'Networking']\",\n",
       "       \"['Arts and Humanities', 'Philosophy']\",\n",
       "       \"['Information Technology', 'Security']\",\n",
       "       \"['Information Technology', 'Support and Operations']\",\n",
       "       \"['Health', 'Animal Health']\", 'None'], dtype=object)"
      ]
     },
     "execution_count": 20,
     "metadata": {},
     "output_type": "execute_result"
    }
   ],
   "source": [
    "coursera_detail.Tags.unique()"
   ]
  },
  {
   "cell_type": "code",
   "execution_count": 21,
   "metadata": {},
   "outputs": [
    {
     "data": {
      "text/plain": [
       "46"
      ]
     },
     "execution_count": 21,
     "metadata": {},
     "output_type": "execute_result"
    }
   ],
   "source": [
    "len(coursera_detail.Tags.unique())"
   ]
  },
  {
   "cell_type": "code",
   "execution_count": 28,
   "metadata": {},
   "outputs": [],
   "source": [
    "coursera_tags =coursera_detail.Tags"
   ]
  },
  {
   "cell_type": "code",
   "execution_count": 29,
   "metadata": {},
   "outputs": [
    {
     "data": {
      "text/plain": [
       "0       ['Social Sciences', 'Governance and Society']\n",
       "1                 ['Business', 'Business Essentials']\n",
       "2                 ['Business', 'Business Essentials']\n",
       "3                 ['Business', 'Business Essentials']\n",
       "4        ['Computer Science', 'Software Development']\n",
       "                            ...                      \n",
       "3845                                             None\n",
       "3846                                             None\n",
       "3847                                             None\n",
       "3848                                             None\n",
       "3849                                             None\n",
       "Name: Tags, Length: 3850, dtype: object"
      ]
     },
     "execution_count": 29,
     "metadata": {},
     "output_type": "execute_result"
    }
   ],
   "source": [
    "coursera_tags"
   ]
  },
  {
   "cell_type": "code",
   "execution_count": 30,
   "metadata": {},
   "outputs": [
    {
     "data": {
      "text/plain": [
       "\"['Social Sciences', 'Governance and Society']\""
      ]
     },
     "execution_count": 30,
     "metadata": {},
     "output_type": "execute_result"
    }
   ],
   "source": [
    "coursera_tags[0]"
   ]
  },
  {
   "cell_type": "code",
   "execution_count": 57,
   "metadata": {},
   "outputs": [],
   "source": [
    "tags_set = set()"
   ]
  },
  {
   "cell_type": "code",
   "execution_count": 58,
   "metadata": {},
   "outputs": [],
   "source": [
    "tags_set = set()\n",
    "count_tags = 0\n",
    "\n",
    "for tag_list in coursera_tags:\n",
    "    if (tag_list):\n",
    "        tags_set.add(tag_list)\n",
    "        count_tags +=1"
   ]
  },
  {
   "cell_type": "code",
   "execution_count": 59,
   "metadata": {},
   "outputs": [
    {
     "data": {
      "text/plain": [
       "{'None',\n",
       " \"['Arts and Humanities', 'History']\",\n",
       " \"['Arts and Humanities', 'Music and Art']\",\n",
       " \"['Arts and Humanities', 'Philosophy']\",\n",
       " \"['Business', 'Business Essentials']\",\n",
       " \"['Business', 'Business Strategy']\",\n",
       " \"['Business', 'Entrepreneurship']\",\n",
       " \"['Business', 'Finance']\",\n",
       " \"['Business', 'Leadership and Management']\",\n",
       " \"['Business', 'Marketing']\",\n",
       " \"['Computer Science', 'Algorithms']\",\n",
       " \"['Computer Science', 'Computer Security and Networks']\",\n",
       " \"['Computer Science', 'Design and Product']\",\n",
       " \"['Computer Science', 'Mobile and Web Development']\",\n",
       " \"['Computer Science', 'Software Development']\",\n",
       " \"['Data Science', 'Data Analysis']\",\n",
       " \"['Data Science', 'Machine Learning']\",\n",
       " \"['Data Science', 'Probability and Statistics']\",\n",
       " \"['Health', 'Animal Health']\",\n",
       " \"['Health', 'Basic Science']\",\n",
       " \"['Health', 'Health Informatics']\",\n",
       " \"['Health', 'Healthcare Management']\",\n",
       " \"['Health', 'Nutrition']\",\n",
       " \"['Health', 'Patient Care']\",\n",
       " \"['Health', 'Psychology']\",\n",
       " \"['Health', 'Public Health']\",\n",
       " \"['Health', 'Research']\",\n",
       " \"['Information Technology', 'Cloud Computing']\",\n",
       " \"['Information Technology', 'Data Management']\",\n",
       " \"['Information Technology', 'Networking']\",\n",
       " \"['Information Technology', 'Security']\",\n",
       " \"['Information Technology', 'Support and Operations']\",\n",
       " \"['Language Learning', 'Learning English']\",\n",
       " \"['Language Learning', 'Other Languages']\",\n",
       " \"['Math and Logic', 'Math and Logic']\",\n",
       " \"['Personal Development', 'Personal Development']\",\n",
       " \"['Physical Science and Engineering', 'Chemistry']\",\n",
       " \"['Physical Science and Engineering', 'Electrical Engineering']\",\n",
       " \"['Physical Science and Engineering', 'Environmental Science and Sustainability']\",\n",
       " \"['Physical Science and Engineering', 'Mechanical Engineering']\",\n",
       " \"['Physical Science and Engineering', 'Physics and Astronomy']\",\n",
       " \"['Physical Science and Engineering', 'Research Methods']\",\n",
       " \"['Social Sciences', 'Economics']\",\n",
       " \"['Social Sciences', 'Education']\",\n",
       " \"['Social Sciences', 'Governance and Society']\",\n",
       " \"['Social Sciences', 'Law']\"}"
      ]
     },
     "execution_count": 59,
     "metadata": {},
     "output_type": "execute_result"
    }
   ],
   "source": [
    "tags_set"
   ]
  },
  {
   "cell_type": "code",
   "execution_count": 60,
   "metadata": {},
   "outputs": [
    {
     "data": {
      "text/plain": [
       "3850"
      ]
     },
     "execution_count": 60,
     "metadata": {},
     "output_type": "execute_result"
    }
   ],
   "source": [
    "count_tags"
   ]
  },
  {
   "cell_type": "code",
   "execution_count": 61,
   "metadata": {},
   "outputs": [
    {
     "name": "stdout",
     "output_type": "stream",
     "text": [
      "How many different Tags 3850\n"
     ]
    }
   ],
   "source": [
    "print(f\"How many different Tags {count_tags}\")"
   ]
  },
  {
   "cell_type": "code",
   "execution_count": 254,
   "metadata": {},
   "outputs": [
    {
     "name": "stdout",
     "output_type": "stream",
     "text": [
      "['Computer Science', 'Computer Security and Networks']\n",
      "['Business', 'Leadership and Management']\n",
      "['Social Sciences', 'Law']\n",
      "['Language Learning', 'Learning English']\n",
      "['Business', 'Marketing']\n",
      "['Data Science', 'Probability and Statistics']\n",
      "['Physical Science and Engineering', 'Chemistry']\n",
      "['Business', 'Business Strategy']\n",
      "['Health', 'Research']\n",
      "['Business', 'Finance']\n",
      "['Social Sciences', 'Governance and Society']\n",
      "['Physical Science and Engineering', 'Research Methods']\n",
      "['Information Technology', 'Security']\n",
      "['Data Science', 'Data Analysis']\n",
      "['Information Technology', 'Support and Operations']\n",
      "['Physical Science and Engineering', 'Environmental Science and Sustainability']\n",
      "['Health', 'Animal Health']\n",
      "['Social Sciences', 'Education']\n",
      "['Information Technology', 'Data Management']\n",
      "['Business', 'Business Essentials']\n",
      "['Physical Science and Engineering', 'Electrical Engineering']\n",
      "['Health', 'Health Informatics']\n",
      "['Data Science', 'Machine Learning']\n",
      "['Language Learning', 'Other Languages']\n",
      "['Computer Science', 'Algorithms']\n",
      "['Arts and Humanities', 'Philosophy']\n",
      "['Computer Science', 'Design and Product']\n",
      "['Health', 'Public Health']\n",
      "['Health', 'Psychology']\n",
      "['Computer Science', 'Software Development']\n",
      "['Health', 'Basic Science']\n",
      "['Health', 'Nutrition']\n",
      "['Information Technology', 'Networking']\n",
      "['Arts and Humanities', 'Music and Art']\n",
      "['Business', 'Entrepreneurship']\n",
      "['Physical Science and Engineering', 'Mechanical Engineering']\n",
      "['Personal Development', 'Personal Development']\n",
      "['Health', 'Healthcare Management']\n",
      "['Physical Science and Engineering', 'Physics and Astronomy']\n",
      "None\n",
      "['Health', 'Patient Care']\n",
      "['Social Sciences', 'Economics']\n",
      "['Arts and Humanities', 'History']\n",
      "['Information Technology', 'Cloud Computing']\n",
      "['Math and Logic', 'Math and Logic']\n",
      "['Computer Science', 'Mobile and Web Development']\n"
     ]
    }
   ],
   "source": [
    "for s in tags_set:\n",
    "    print(s)"
   ]
  },
  {
   "cell_type": "code",
   "execution_count": 255,
   "metadata": {},
   "outputs": [
    {
     "name": "stdout",
     "output_type": "stream",
     "text": [
      "['Computer Science', 'Mobile and Web Development']\n"
     ]
    }
   ],
   "source": [
    "print(s)"
   ]
  },
  {
   "cell_type": "markdown",
   "metadata": {},
   "source": [
    "### Grab the Search Phrase between single quotes"
   ]
  },
  {
   "cell_type": "code",
   "execution_count": 270,
   "metadata": {},
   "outputs": [
    {
     "name": "stdout",
     "output_type": "stream",
     "text": [
      "['Computer Science', 'Mobile and Web Development']\n"
     ]
    }
   ],
   "source": [
    "print(s)\n",
    "new_phrase = \"\"\n",
    "new_keyword = \"\"\n",
    "keyword_list = []\n",
    "phrase_list = []\n",
    "keyword = new_keyword\n",
    "phrase = new_phrase\n",
    "\n",
    "\n",
    "for letter in s:\n",
    "    open_braces = (letter == \"[\")\n",
    "    closed_braces = (letter == \"]\")\n",
    "    single_quote = (letter == \"'\")\n",
    "    space = (letter==\" \")\n",
    "    comma = (letter == \",\")\n",
    "\n",
    "    \n",
    "    alphabet = (not open_braces) and (not closed_braces) and (not single_quote) and (not comma) and (not space)\n",
    "    if (open_braces):\n",
    "            keyword_list = []\n",
    "            phrase_list = []\n",
    "            keyword = new_keyword\n",
    "            phrase = new_phrase\n",
    "\n",
    "            \n",
    " \n",
    "    if (single_quote):\n",
    "            if (keyword != new_keyword):\n",
    "                keyword_list.append(keyword)\n",
    "                phrase_list.append(phrase)\n",
    "                keyword = new_keyword\n",
    "                phrase = new_phrase\n",
    "                \n",
    "\n",
    "                \n",
    "\n",
    "    if (space):\n",
    "                if (keyword != new_keyword):\n",
    "                    keyword_list.append(keyword)\n",
    "                    keyword=new_keyword\n",
    "                    phrase = phrase + blankspace\n",
    "\n",
    "\n",
    "                \n",
    "    if (closed_braces):\n",
    "                #keyword_list.append(keyword)\n",
    "                #phrase_list.append(phrase)\n",
    "                keyword = new_keyword\n",
    "                phrase = new_phrase\n",
    "                open_quote = False\n",
    "                closed_quote = True\n",
    "    if (comma):\n",
    "                #keyword_list.append(keyword)\n",
    "                #phrase_list.append(phrase)       \n",
    "                keyword = new_keyword\n",
    "                phrase = new_phrase\n",
    "                space_after_comma = True\n",
    "            \n",
    "            \n",
    "    if (alphabet):\n",
    "                keyword= keyword + letter\n",
    "                phrase = phrase + letter\n",
    "                space_after_comma = False\n",
    "    \n",
    "        \n",
    "    "
   ]
  },
  {
   "cell_type": "code",
   "execution_count": 271,
   "metadata": {},
   "outputs": [
    {
     "data": {
      "text/plain": [
       "['Computer Science', 'Mobile and Web Development']"
      ]
     },
     "execution_count": 271,
     "metadata": {},
     "output_type": "execute_result"
    }
   ],
   "source": [
    "phrase_list"
   ]
  },
  {
   "cell_type": "code",
   "execution_count": 274,
   "metadata": {},
   "outputs": [
    {
     "name": "stdout",
     "output_type": "stream",
     "text": [
      "Computer Science\n",
      "Mobile and Web Development\n"
     ]
    }
   ],
   "source": [
    "for phrase in phrase_list:\n",
    "    print(phrase)"
   ]
  },
  {
   "cell_type": "code",
   "execution_count": 272,
   "metadata": {},
   "outputs": [
    {
     "data": {
      "text/plain": [
       "['Computer', 'Science', 'Mobile', 'and', 'Web', 'Development']"
      ]
     },
     "execution_count": 272,
     "metadata": {},
     "output_type": "execute_result"
    }
   ],
   "source": [
    "keyword_list"
   ]
  },
  {
   "cell_type": "code",
   "execution_count": 273,
   "metadata": {},
   "outputs": [
    {
     "name": "stdout",
     "output_type": "stream",
     "text": [
      "Computer\n",
      "Science\n",
      "Mobile\n",
      "and\n",
      "Web\n",
      "Development\n"
     ]
    }
   ],
   "source": [
    "for key in keyword_list:\n",
    "    print(key)"
   ]
  },
  {
   "cell_type": "code",
   "execution_count": 276,
   "metadata": {},
   "outputs": [],
   "source": [
    "def find_phrase_list(s):\n",
    "    \n",
    "    \n",
    "    new_phrase = \"\"\n",
    "    new_keyword = \"\"\n",
    "    keyword_list = []\n",
    "    phrase_list = []\n",
    "    keyword = new_keyword\n",
    "    phrase = new_phrase\n",
    "\n",
    "\n",
    "    for letter in s:\n",
    "        open_braces = (letter == \"[\")\n",
    "        closed_braces = (letter == \"]\")\n",
    "        single_quote = (letter == \"'\")\n",
    "        space = (letter==\" \")\n",
    "        comma = (letter == \",\")\n",
    "\n",
    "    \n",
    "        alphabet = (not open_braces) and (not closed_braces) and (not single_quote) and (not comma) and (not space)\n",
    "        if (open_braces):\n",
    "            keyword_list = []\n",
    "            phrase_list = []\n",
    "            keyword = new_keyword\n",
    "            phrase = new_phrase\n",
    "\n",
    "            \n",
    " \n",
    "        if (single_quote):\n",
    "            if (keyword != new_keyword):\n",
    "                keyword_list.append(keyword)\n",
    "                phrase_list.append(phrase)\n",
    "                keyword = new_keyword\n",
    "                phrase = new_phrase\n",
    "                \n",
    "\n",
    "                \n",
    "\n",
    "        if (space):\n",
    "                if (keyword != new_keyword):\n",
    "                    keyword_list.append(keyword)\n",
    "                    keyword=new_keyword\n",
    "                    phrase = phrase + blankspace\n",
    "\n",
    "\n",
    "                \n",
    "        if (closed_braces):\n",
    "                #keyword_list.append(keyword)\n",
    "                #phrase_list.append(phrase)\n",
    "                keyword = new_keyword\n",
    "                phrase = new_phrase\n",
    "                open_quote = False\n",
    "                closed_quote = True\n",
    "        if (comma):\n",
    "                #keyword_list.append(keyword)\n",
    "                #phrase_list.append(phrase)       \n",
    "                keyword = new_keyword\n",
    "                phrase = new_phrase\n",
    "                space_after_comma = True\n",
    "            \n",
    "            \n",
    "        if (alphabet):\n",
    "                keyword= keyword + letter\n",
    "                phrase = phrase + letter\n",
    "                space_after_comma = False\n",
    "    \n",
    "        \n",
    "    \n",
    "    \n",
    "    \n",
    "    return phrase_list"
   ]
  },
  {
   "cell_type": "code",
   "execution_count": 281,
   "metadata": {},
   "outputs": [],
   "source": [
    "def find_keyword_list(s):\n",
    "    \n",
    "    \n",
    "    new_phrase = \"\"\n",
    "    new_keyword = \"\"\n",
    "    keyword_list = []\n",
    "    phrase_list = []\n",
    "    keyword = new_keyword\n",
    "    phrase = new_phrase\n",
    "\n",
    "\n",
    "    for letter in s:\n",
    "        open_braces = (letter == \"[\")\n",
    "        closed_braces = (letter == \"]\")\n",
    "        single_quote = (letter == \"'\")\n",
    "        space = (letter==\" \")\n",
    "        comma = (letter == \",\")\n",
    "\n",
    "    \n",
    "        alphabet = (not open_braces) and (not closed_braces) and (not single_quote) and (not comma) and (not space)\n",
    "        if (open_braces):\n",
    "            keyword_list = []\n",
    "            phrase_list = []\n",
    "            keyword = new_keyword\n",
    "            phrase = new_phrase\n",
    "\n",
    "            \n",
    " \n",
    "        if (single_quote):\n",
    "            if (keyword != new_keyword):\n",
    "                keyword_list.append(keyword)\n",
    "                phrase_list.append(phrase)\n",
    "                keyword = new_keyword\n",
    "                phrase = new_phrase\n",
    "                \n",
    "\n",
    "                \n",
    "\n",
    "        if (space):\n",
    "                if (keyword != new_keyword):\n",
    "                    keyword_list.append(keyword)\n",
    "                    keyword=new_keyword\n",
    "                    phrase = phrase + blankspace\n",
    "\n",
    "\n",
    "                \n",
    "        if (closed_braces):\n",
    "                #keyword_list.append(keyword)\n",
    "                #phrase_list.append(phrase)\n",
    "                keyword = new_keyword\n",
    "                phrase = new_phrase\n",
    "                open_quote = False\n",
    "                closed_quote = True\n",
    "        if (comma):\n",
    "                #keyword_list.append(keyword)\n",
    "                #phrase_list.append(phrase)       \n",
    "                keyword = new_keyword\n",
    "                phrase = new_phrase\n",
    "                space_after_comma = True\n",
    "            \n",
    "            \n",
    "        if (alphabet):\n",
    "                keyword= keyword + letter\n",
    "                phrase = phrase + letter\n",
    "                space_after_comma = False\n",
    "    \n",
    "        \n",
    "    \n",
    "    \n",
    "        \n",
    "    return keyword_list"
   ]
  },
  {
   "cell_type": "code",
   "execution_count": 278,
   "metadata": {},
   "outputs": [],
   "source": [
    "set_of_phrases = set()\n",
    "for s in tags_set:\n",
    "    phrase_list = find_phrase_list(s)\n",
    "    for phrase in phrase_list:\n",
    "        set_of_phrases.add(phrase)"
   ]
  },
  {
   "cell_type": "code",
   "execution_count": 279,
   "metadata": {},
   "outputs": [
    {
     "data": {
      "text/plain": [
       "{'Algorithms',\n",
       " 'Animal Health',\n",
       " 'Arts and Humanities',\n",
       " 'Basic Science',\n",
       " 'Business',\n",
       " 'Business Essentials',\n",
       " 'Business Strategy',\n",
       " 'Chemistry',\n",
       " 'Cloud Computing',\n",
       " 'Computer Science',\n",
       " 'Computer Security and Networks',\n",
       " 'Data Analysis',\n",
       " 'Data Management',\n",
       " 'Data Science',\n",
       " 'Design and Product',\n",
       " 'Economics',\n",
       " 'Education',\n",
       " 'Electrical Engineering',\n",
       " 'Entrepreneurship',\n",
       " 'Environmental Science and Sustainability',\n",
       " 'Finance',\n",
       " 'Governance and Society',\n",
       " 'Health',\n",
       " 'Health Informatics',\n",
       " 'Healthcare Management',\n",
       " 'History',\n",
       " 'Information Technology',\n",
       " 'Language Learning',\n",
       " 'Law',\n",
       " 'Leadership and Management',\n",
       " 'Learning English',\n",
       " 'Machine Learning',\n",
       " 'Marketing',\n",
       " 'Math and Logic',\n",
       " 'Mechanical Engineering',\n",
       " 'Mobile and Web Development',\n",
       " 'Music and Art',\n",
       " 'Networking',\n",
       " 'Nutrition',\n",
       " 'Other Languages',\n",
       " 'Patient Care',\n",
       " 'Personal Development',\n",
       " 'Philosophy',\n",
       " 'Physical Science and Engineering',\n",
       " 'Physics and Astronomy',\n",
       " 'Probability and Statistics',\n",
       " 'Psychology',\n",
       " 'Public Health',\n",
       " 'Research',\n",
       " 'Research Methods',\n",
       " 'Security',\n",
       " 'Social Sciences',\n",
       " 'Software Development',\n",
       " 'Support and Operations'}"
      ]
     },
     "execution_count": 279,
     "metadata": {},
     "output_type": "execute_result"
    }
   ],
   "source": [
    "set_of_phrases"
   ]
  },
  {
   "cell_type": "code",
   "execution_count": 282,
   "metadata": {},
   "outputs": [],
   "source": [
    "set_of_keys = set()\n",
    "for s in tags_set:\n",
    "    keyword_list = find_keyword_list(s)\n",
    "    for key in keyword_list:\n",
    "        set_of_keys.add(key)"
   ]
  },
  {
   "cell_type": "code",
   "execution_count": 283,
   "metadata": {},
   "outputs": [
    {
     "data": {
      "text/plain": [
       "{'Algorithms',\n",
       " 'Analysis',\n",
       " 'Animal',\n",
       " 'Art',\n",
       " 'Arts',\n",
       " 'Astronomy',\n",
       " 'Basic',\n",
       " 'Business',\n",
       " 'Care',\n",
       " 'Chemistry',\n",
       " 'Cloud',\n",
       " 'Computer',\n",
       " 'Computing',\n",
       " 'Data',\n",
       " 'Design',\n",
       " 'Development',\n",
       " 'Economics',\n",
       " 'Education',\n",
       " 'Electrical',\n",
       " 'Engineering',\n",
       " 'English',\n",
       " 'Entrepreneurship',\n",
       " 'Environmental',\n",
       " 'Essentials',\n",
       " 'Finance',\n",
       " 'Governance',\n",
       " 'Health',\n",
       " 'Healthcare',\n",
       " 'History',\n",
       " 'Humanities',\n",
       " 'Informatics',\n",
       " 'Information',\n",
       " 'Language',\n",
       " 'Languages',\n",
       " 'Law',\n",
       " 'Leadership',\n",
       " 'Learning',\n",
       " 'Logic',\n",
       " 'Machine',\n",
       " 'Management',\n",
       " 'Marketing',\n",
       " 'Math',\n",
       " 'Mechanical',\n",
       " 'Methods',\n",
       " 'Mobile',\n",
       " 'Music',\n",
       " 'Networking',\n",
       " 'Networks',\n",
       " 'Nutrition',\n",
       " 'Operations',\n",
       " 'Other',\n",
       " 'Patient',\n",
       " 'Personal',\n",
       " 'Philosophy',\n",
       " 'Physical',\n",
       " 'Physics',\n",
       " 'Probability',\n",
       " 'Product',\n",
       " 'Psychology',\n",
       " 'Public',\n",
       " 'Research',\n",
       " 'Science',\n",
       " 'Sciences',\n",
       " 'Security',\n",
       " 'Social',\n",
       " 'Society',\n",
       " 'Software',\n",
       " 'Statistics',\n",
       " 'Strategy',\n",
       " 'Support',\n",
       " 'Sustainability',\n",
       " 'Technology',\n",
       " 'Web',\n",
       " 'and'}"
      ]
     },
     "execution_count": 283,
     "metadata": {},
     "output_type": "execute_result"
    }
   ],
   "source": [
    "set_of_keys"
   ]
  },
  {
   "cell_type": "code",
   "execution_count": 284,
   "metadata": {},
   "outputs": [
    {
     "data": {
      "text/plain": [
       "74"
      ]
     },
     "execution_count": 284,
     "metadata": {},
     "output_type": "execute_result"
    }
   ],
   "source": [
    "len(set_of_keys)"
   ]
  },
  {
   "cell_type": "code",
   "execution_count": null,
   "metadata": {},
   "outputs": [],
   "source": []
  }
 ],
 "metadata": {
  "kernelspec": {
   "display_name": "Python 3",
   "language": "python",
   "name": "python3"
  },
  "language_info": {
   "codemirror_mode": {
    "name": "ipython",
    "version": 3
   },
   "file_extension": ".py",
   "mimetype": "text/x-python",
   "name": "python",
   "nbconvert_exporter": "python",
   "pygments_lexer": "ipython3",
   "version": "3.7.6"
  }
 },
 "nbformat": 4,
 "nbformat_minor": 4
}
